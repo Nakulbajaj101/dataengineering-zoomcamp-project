{
 "cells": [
  {
   "cell_type": "code",
   "execution_count": 5,
   "id": "0e0e524f",
   "metadata": {},
   "outputs": [],
   "source": [
    "import pandas as pd"
   ]
  },
  {
   "cell_type": "code",
   "execution_count": 6,
   "id": "48c834ce",
   "metadata": {},
   "outputs": [],
   "source": [
    "DATA_FOLDER = \"../data/raw\"\n",
    "FILE = \"01-01-2021.parquet\""
   ]
  },
  {
   "cell_type": "code",
   "execution_count": 7,
   "id": "90a54333",
   "metadata": {},
   "outputs": [],
   "source": [
    "data = pd.read_parquet(f\"{DATA_FOLDER}/{FILE}\")"
   ]
  },
  {
   "cell_type": "code",
   "execution_count": null,
   "id": "3cafcd17",
   "metadata": {},
   "outputs": [],
   "source": [
    "data.head()"
   ]
  }
 ],
 "metadata": {
  "kernelspec": {
   "display_name": "Python 3 (ipykernel)",
   "language": "python",
   "name": "python3"
  },
  "language_info": {
   "codemirror_mode": {
    "name": "ipython",
    "version": 3
   },
   "file_extension": ".py",
   "mimetype": "text/x-python",
   "name": "python",
   "nbconvert_exporter": "python",
   "pygments_lexer": "ipython3",
   "version": "3.8.8"
  }
 },
 "nbformat": 4,
 "nbformat_minor": 5
}
